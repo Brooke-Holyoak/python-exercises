{
 "cells": [
  {
   "cell_type": "markdown",
   "id": "5133c511",
   "metadata": {},
   "source": [
    "## This is my first notebook\n",
    "### A place to practice \n",
    "#### Practice is always good"
   ]
  },
  {
   "cell_type": "markdown",
   "id": "2d0b85ca",
   "metadata": {},
   "source": [
    "- a few shortcuts to use:\n",
    "    - A: insert cell above\n",
    "    - B: insert cell below\n",
    "    - X: cut selected cells\n",
    "    - C: copy selected cells\n",
    "    - shift+V: paste cells above\n",
    "    - V: paste cells below"
   ]
  },
  {
   "cell_type": "code",
   "execution_count": null,
   "id": "bc79f91b",
   "metadata": {},
   "outputs": [],
   "source": []
  },
  {
   "cell_type": "code",
   "execution_count": null,
   "id": "faf78305",
   "metadata": {},
   "outputs": [],
   "source": []
  },
  {
   "cell_type": "code",
   "execution_count": null,
   "id": "fdcb22fb",
   "metadata": {},
   "outputs": [],
   "source": []
  }
 ],
 "metadata": {
  "kernelspec": {
   "display_name": "Python 3",
   "language": "python",
   "name": "python3"
  },
  "language_info": {
   "codemirror_mode": {
    "name": "ipython",
    "version": 3
   },
   "file_extension": ".py",
   "mimetype": "text/x-python",
   "name": "python",
   "nbconvert_exporter": "python",
   "pygments_lexer": "ipython3",
   "version": "3.8.8"
  }
 },
 "nbformat": 4,
 "nbformat_minor": 5
}
