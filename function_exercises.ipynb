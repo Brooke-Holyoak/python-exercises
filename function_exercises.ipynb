{
 "cells": [
  {
   "cell_type": "code",
   "execution_count": 18,
   "id": "d90f944c",
   "metadata": {},
   "outputs": [],
   "source": [
    "def is_two(n):\n",
    "    if n == 2 or '2':\n",
    "        return True\n",
    "    else:\n",
    "        return False\n",
    "    "
   ]
  },
  {
   "cell_type": "code",
   "execution_count": 17,
   "id": "d2d2c39b",
   "metadata": {},
   "outputs": [
    {
     "data": {
      "text/plain": [
       "True"
      ]
     },
     "execution_count": 17,
     "metadata": {},
     "output_type": "execute_result"
    }
   ],
   "source": [
    "is_two('2')"
   ]
  },
  {
   "cell_type": "code",
   "execution_count": 36,
   "id": "8c274a34",
   "metadata": {},
   "outputs": [],
   "source": [
    "def is_vowel(letter):\n",
    "    if letter in ('a', 'e', 'i', 'o', 'u'):\n",
    "        return True\n",
    "    else: \n",
    "        return False\n",
    "    \n",
    "    "
   ]
  },
  {
   "cell_type": "code",
   "execution_count": 37,
   "id": "2409257f",
   "metadata": {},
   "outputs": [
    {
     "data": {
      "text/plain": [
       "False"
      ]
     },
     "execution_count": 37,
     "metadata": {},
     "output_type": "execute_result"
    }
   ],
   "source": [
    "is_vowel('k')"
   ]
  },
  {
   "cell_type": "code",
   "execution_count": 42,
   "id": "8210ca5a",
   "metadata": {},
   "outputs": [],
   "source": [
    "def is_consonant(letter):\n",
    "    if letter not in ('a', 'e', 'i', 'o', 'u'):\n",
    "        return True\n",
    "    else: \n",
    "        return False"
   ]
  },
  {
   "cell_type": "code",
   "execution_count": 44,
   "id": "881d8fff",
   "metadata": {},
   "outputs": [
    {
     "data": {
      "text/plain": [
       "True"
      ]
     },
     "execution_count": 44,
     "metadata": {},
     "output_type": "execute_result"
    }
   ],
   "source": [
    "is_consonant('a')"
   ]
  },
  {
   "cell_type": "code",
   "execution_count": 51,
   "id": "18a16802",
   "metadata": {},
   "outputs": [],
   "source": [
    "def proper_noun(noun):\n",
    "    result = noun.capitalize()\n",
    "    return result\n"
   ]
  },
  {
   "cell_type": "code",
   "execution_count": 52,
   "id": "5555efa8",
   "metadata": {},
   "outputs": [
    {
     "data": {
      "text/plain": [
       "'Brooke'"
      ]
     },
     "execution_count": 52,
     "metadata": {},
     "output_type": "execute_result"
    }
   ],
   "source": [
    "proper_noun('brooke')"
   ]
  },
  {
   "cell_type": "code",
   "execution_count": 136,
   "id": "54e96996",
   "metadata": {},
   "outputs": [],
   "source": [
    "total_bill = 50\n",
    "desired_tip = .15\n",
    "\n",
    "def calculate_tip(total_bill, desired_tip):\n",
    "    return total_bill * desired_tip\n",
    "    \n",
    "    \n",
    "    "
   ]
  },
  {
   "cell_type": "code",
   "execution_count": 137,
   "id": "7f4913a8",
   "metadata": {},
   "outputs": [
    {
     "data": {
      "text/plain": [
       "60.0"
      ]
     },
     "execution_count": 137,
     "metadata": {},
     "output_type": "execute_result"
    }
   ],
   "source": [
    "calculate_tip(400, desired_tip)"
   ]
  },
  {
   "cell_type": "code",
   "execution_count": 138,
   "id": "feb47f69",
   "metadata": {},
   "outputs": [],
   "source": [
    "original_price = 150\n",
    "discount = 50\n",
    "\n",
    "def apply_discount(original_price, discount):\n",
    "    return original - (original_price * (discount/100))\n"
   ]
  },
  {
   "cell_type": "code",
   "execution_count": 140,
   "id": "c7f82f01",
   "metadata": {},
   "outputs": [
    {
     "ename": "NameError",
     "evalue": "name 'original' is not defined",
     "output_type": "error",
     "traceback": [
      "\u001b[0;31m---------------------------------------------------------------------------\u001b[0m",
      "\u001b[0;31mNameError\u001b[0m                                 Traceback (most recent call last)",
      "\u001b[0;32m<ipython-input-140-b9608b4ce160>\u001b[0m in \u001b[0;36m<module>\u001b[0;34m\u001b[0m\n\u001b[0;32m----> 1\u001b[0;31m \u001b[0mapply_discount\u001b[0m\u001b[0;34m(\u001b[0m\u001b[0;36m150\u001b[0m\u001b[0;34m,\u001b[0m \u001b[0mdiscount\u001b[0m\u001b[0;34m)\u001b[0m\u001b[0;34m\u001b[0m\u001b[0;34m\u001b[0m\u001b[0m\n\u001b[0m",
      "\u001b[0;32m<ipython-input-138-1d1e1e94e07e>\u001b[0m in \u001b[0;36mapply_discount\u001b[0;34m(original_price, discount)\u001b[0m\n\u001b[1;32m      3\u001b[0m \u001b[0;34m\u001b[0m\u001b[0m\n\u001b[1;32m      4\u001b[0m \u001b[0;32mdef\u001b[0m \u001b[0mapply_discount\u001b[0m\u001b[0;34m(\u001b[0m\u001b[0moriginal_price\u001b[0m\u001b[0;34m,\u001b[0m \u001b[0mdiscount\u001b[0m\u001b[0;34m)\u001b[0m\u001b[0;34m:\u001b[0m\u001b[0;34m\u001b[0m\u001b[0;34m\u001b[0m\u001b[0m\n\u001b[0;32m----> 5\u001b[0;31m     \u001b[0;32mreturn\u001b[0m \u001b[0moriginal\u001b[0m \u001b[0;34m-\u001b[0m \u001b[0;34m(\u001b[0m\u001b[0moriginal_price\u001b[0m \u001b[0;34m*\u001b[0m \u001b[0;34m(\u001b[0m\u001b[0mdiscount\u001b[0m\u001b[0;34m/\u001b[0m\u001b[0;36m100\u001b[0m\u001b[0;34m)\u001b[0m\u001b[0;34m)\u001b[0m\u001b[0;34m\u001b[0m\u001b[0;34m\u001b[0m\u001b[0m\n\u001b[0m",
      "\u001b[0;31mNameError\u001b[0m: name 'original' is not defined"
     ]
    }
   ],
   "source": [
    "apply_discount(150, discount)"
   ]
  },
  {
   "cell_type": "code",
   "execution_count": 134,
   "id": "de188551",
   "metadata": {},
   "outputs": [],
   "source": [
    "def handle_commas(number):\n",
    "    return int(number.replace(',',''))"
   ]
  },
  {
   "cell_type": "code",
   "execution_count": 135,
   "id": "5acfe8b8",
   "metadata": {},
   "outputs": [
    {
     "data": {
      "text/plain": [
       "8000000"
      ]
     },
     "execution_count": 135,
     "metadata": {},
     "output_type": "execute_result"
    }
   ],
   "source": [
    "handle_commas('8,000,000')"
   ]
  },
  {
   "cell_type": "code",
   "execution_count": 95,
   "id": "fb13d623",
   "metadata": {},
   "outputs": [],
   "source": [
    "def get_letter_grade(grade):\n",
    "    if grade <= 69:\n",
    "        return 'F'\n",
    "    elif grade <= 74 and grade > 69:\n",
    "        return 'D'\n",
    "    elif grade <= 79 and grade > 74:\n",
    "        return 'C'\n",
    "    elif grade <= 89 and grade > 79:\n",
    "        return 'B'\n",
    "    elif grade <= 100 and grade > 89:\n",
    "        return 'A'\n",
    "    else:\n",
    "        return False"
   ]
  },
  {
   "cell_type": "code",
   "execution_count": 101,
   "id": "33ad7ad5",
   "metadata": {},
   "outputs": [
    {
     "data": {
      "text/plain": [
       "'F'"
      ]
     },
     "execution_count": 101,
     "metadata": {},
     "output_type": "execute_result"
    }
   ],
   "source": [
    "get_letter_grade(10)"
   ]
  },
  {
   "cell_type": "code",
   "execution_count": 116,
   "id": "b74443ae",
   "metadata": {},
   "outputs": [],
   "source": [
    "def remove_vowels(word):\n",
    "    vowels = ['a','e','i','o','u']\n",
    "    result = [letter for letter in word if letter.lower() not in vowels]\n",
    "    result = ''.join(result)\n",
    "    return result\n",
    "\n"
   ]
  },
  {
   "cell_type": "code",
   "execution_count": 117,
   "id": "4e37f5b5",
   "metadata": {},
   "outputs": [
    {
     "data": {
      "text/plain": [
       "'brk'"
      ]
     },
     "execution_count": 117,
     "metadata": {},
     "output_type": "execute_result"
    }
   ],
   "source": [
    "remove_vowels('brooke')"
   ]
  },
  {
   "cell_type": "markdown",
   "id": "fbedc067",
   "metadata": {},
   "source": [
    "Define a function named normalize_name. It should accept a string and return a valid python identifier, that is:\n",
    "anything that is not a valid python identifier should be removed\n",
    "leading and trailing whitespace should be removed\n",
    "everything should be lowercase\n",
    "spaces should be replaced with underscores\n",
    "for example:\n",
    "Name will become name\n",
    "First Name will become first_name\n",
    "% Completed will become completed"
   ]
  },
  {
   "cell_type": "code",
   "execution_count": 132,
   "id": "32c0359d",
   "metadata": {},
   "outputs": [],
   "source": [
    "def normalize_name(name):\n",
    "    result = name.strip(), name.replace(' ','_'), name.lower()\n",
    "    return result"
   ]
  },
  {
   "cell_type": "code",
   "execution_count": 133,
   "id": "6affe7d9",
   "metadata": {},
   "outputs": [
    {
     "data": {
      "text/plain": [
       "('First Name', '_First_Name_', ' first name ')"
      ]
     },
     "execution_count": 133,
     "metadata": {},
     "output_type": "execute_result"
    }
   ],
   "source": [
    "normalize_name(' First Name ')"
   ]
  },
  {
   "cell_type": "code",
   "execution_count": null,
   "id": "0a11d31b",
   "metadata": {},
   "outputs": [],
   "source": []
  }
 ],
 "metadata": {
  "kernelspec": {
   "display_name": "Python 3",
   "language": "python",
   "name": "python3"
  },
  "language_info": {
   "codemirror_mode": {
    "name": "ipython",
    "version": 3
   },
   "file_extension": ".py",
   "mimetype": "text/x-python",
   "name": "python",
   "nbconvert_exporter": "python",
   "pygments_lexer": "ipython3",
   "version": "3.8.8"
  }
 },
 "nbformat": 4,
 "nbformat_minor": 5
}
