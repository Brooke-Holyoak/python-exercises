{
 "cells": [
  {
   "cell_type": "code",
   "execution_count": 1,
   "id": "4eb4f083",
   "metadata": {},
   "outputs": [
    {
     "ename": "NameError",
     "evalue": "name 'brooke' is not defined",
     "output_type": "error",
     "traceback": [
      "\u001b[0;31m---------------------------------------------------------------------------\u001b[0m",
      "\u001b[0;31mNameError\u001b[0m                                 Traceback (most recent call last)",
      "\u001b[0;32m<ipython-input-1-89ab7f7dc56d>\u001b[0m in \u001b[0;36m<module>\u001b[0;34m\u001b[0m\n\u001b[0;32m----> 1\u001b[0;31m \u001b[0mbrooke\u001b[0m \u001b[0;34m*\u001b[0m \u001b[0;36m3\u001b[0m\u001b[0;34m\u001b[0m\u001b[0;34m\u001b[0m\u001b[0m\n\u001b[0m",
      "\u001b[0;31mNameError\u001b[0m: name 'brooke' is not defined"
     ]
    }
   ],
   "source": [
    "brooke * 3"
   ]
  },
  {
   "cell_type": "code",
   "execution_count": 2,
   "id": "12559681",
   "metadata": {},
   "outputs": [
    {
     "data": {
      "text/plain": [
       "'brookebrookebrooke'"
      ]
     },
     "execution_count": 2,
     "metadata": {},
     "output_type": "execute_result"
    }
   ],
   "source": [
    "\"brooke\" * 3"
   ]
  },
  {
   "cell_type": "code",
   "execution_count": 3,
   "id": "d307a3d7",
   "metadata": {},
   "outputs": [
    {
     "data": {
      "text/plain": [
       "True"
      ]
     },
     "execution_count": 3,
     "metadata": {},
     "output_type": "execute_result"
    }
   ],
   "source": [
    "\"o\" in \"brooke\""
   ]
  },
  {
   "cell_type": "code",
   "execution_count": 4,
   "id": "b4a81b20",
   "metadata": {},
   "outputs": [
    {
     "data": {
      "text/plain": [
       "False"
      ]
     },
     "execution_count": 4,
     "metadata": {},
     "output_type": "execute_result"
    }
   ],
   "source": [
    "\"s\" in \"brooke\""
   ]
  },
  {
   "cell_type": "code",
   "execution_count": null,
   "id": "71b08bc4",
   "metadata": {},
   "outputs": [],
   "source": []
  }
 ],
 "metadata": {
  "kernelspec": {
   "display_name": "Python 3",
   "language": "python",
   "name": "python3"
  },
  "language_info": {
   "codemirror_mode": {
    "name": "ipython",
    "version": 3
   },
   "file_extension": ".py",
   "mimetype": "text/x-python",
   "name": "python",
   "nbconvert_exporter": "python",
   "pygments_lexer": "ipython3",
   "version": "3.8.8"
  }
 },
 "nbformat": 4,
 "nbformat_minor": 5
}
